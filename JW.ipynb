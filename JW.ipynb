{
 "cells": [
  {
   "cell_type": "markdown",
   "metadata": {},
   "source": [
    "# 하는법\n",
    "1. https://developer.codef.io/products 에서 원하는 메뉴 접속\n",
    "2. Endpoint 뒤에 (예시) /v1/kr/public/nt/hometax-certificate/status 복사\n",
    "3. 오른쪽input python code 복사해서 (input 값에 따라 sandbox는 변화는 없지만)\n",
    "4. 07_product/main.py 코드 가서 endpoint 뒤에 꺼랑 parameter 넣어주면 결과 나옴\n",
    "5. 결과중에 result는 data 가 output"
   ]
  },
  {
   "cell_type": "code",
   "execution_count": 1,
   "metadata": {},
   "outputs": [],
   "source": [
    "_public_key ="
   ]
  },
  {
   "cell_type": "code",
   "execution_count": 2,
   "metadata": {},
   "outputs": [],
   "source": [
    "import sqlite3\n",
    "import pandas as pd\n",
    "from pandas import Series, DataFrame"
   ]
  },
  {
   "cell_type": "code",
   "execution_count": null,
   "metadata": {},
   "outputs": [],
   "source": []
  },
  {
   "cell_type": "markdown",
   "metadata": {},
   "source": [
    "## 카드>여신금융협회>등록여부 API\n",
    "https://developer.codef.io/products/card/each/c/regit-status"
   ]
  },
  {
   "cell_type": "code",
   "execution_count": 3,
   "metadata": {
    "scrolled": false
   },
   "outputs": [
    {
     "name": "stdout",
     "output_type": "stream",
     "text": [
      "paramter: {'organization': '0323', 'id': '로그인 아이디', 'password': 'RSA암호화된 비밀번호'} \n",
      "\n",
      "result: {\"result\": {\"code\": \"CF-00000\", \"extraMessage\": \"\", \"message\": \"성공\", \"transactionId\": \"9ab0060f4db7403e82c965d82361d4c6\"}, \"data\": {\"resRegistrationStatus\": \"1\", \"resResultDesc\": \"\"}} \n",
      "\n",
      "data \": {\"resRegistrationStatus\": \"1\", \"resResultDesc\": \"\"}} \n",
      "\n",
      "DB:  {'organization': '0323', 'id': '로그인 아이디', 'password': 'RSA암호화된 비밀번호', 'resRegistrationStatus': '1', 'resResultDesc': ''}\n"
     ]
    }
   ],
   "source": [
    "%run 07_product/06_CFA_registration.py -- _public_key "
   ]
  },
  {
   "cell_type": "code",
   "execution_count": null,
   "metadata": {},
   "outputs": [],
   "source": []
  },
  {
   "cell_type": "code",
   "execution_count": 4,
   "metadata": {},
   "outputs": [
    {
     "name": "stdout",
     "output_type": "stream",
     "text": [
      "(0, '0323', '로그인 아이디', 'RSA암호화된 비밀번호', '1', '')\n"
     ]
    }
   ],
   "source": [
    "##SQLITE QUERY\n",
    "c=conn.cursor()\n",
    "sql6=\"SELECT * FROM CFA_registration WHERE organization= :organization AND id= :id AND password=:password\"\n",
    "c.execute(sql6, {'organization': '0323', 'id': '로그인 아이디', 'password': 'RSA암호화된 비밀번호'}) #입력값\n",
    "\n",
    "for row in c.fetchall():\n",
    "    print(row)"
   ]
  },
  {
   "cell_type": "markdown",
   "metadata": {},
   "source": [
    "## 카드>여신금융협회>승인내역 API \n",
    "https://developer.codef.io/products/card/each/c/approval\n"
   ]
  },
  {
   "cell_type": "code",
   "execution_count": 5,
   "metadata": {
    "scrolled": true
   },
   "outputs": [
    {
     "name": "stdout",
     "output_type": "stream",
     "text": [
      "paramter: {'organization': '0323', 'id': '로그인 아이디', 'password': 'RSA암호화된 비밀번호', 'startDate': '20190701', 'endDate': '20190731', 'memberStoreGroup': '(주)**'} \n",
      "\n",
      "result: {\"result\": {\"code\": \"CF-00000\", \"extraMessage\": \"\", \"message\": \"성공\", \"transactionId\": \"27553dafbeb34dd391b3d2d53d4787f9\"}, \"data\": {\"commMemberStoreGroup\": \"(주)**\", \"resTransTypeNm\": \"승인\", \"resUsedDate\": \"20190703\", \"resUsedTime\": \"121444\", \"resCardCompany\": \"**카드\", \"resCardName\": \"\", \"resCardNo\": \"************0000\", \"resApprovalNo\": \"91048374\", \"resUsedAmount\": \"396000\", \"resInstallmentMonth\": \"00\", \"resMemberStoreCorpNo\": \"\", \"commStartDate\": \"20190701\", \"commEndDate\": \"20190731\"}} \n",
      "\n",
      "data \": {\"commMemberStoreGroup\": \"(주)**\", \"resTransTypeNm\": \"승인\", \"resUsedDate\": \"20190703\", \"resUsedTime\": \"121444\", \"resCardCompany\": \"**카드\", \"resCardName\": \"\", \"resCardNo\": \"************0000\", \"resApprovalNo\": \"91048374\", \"resUsedAmount\": \"396000\", \"resInstallmentMonth\": \"00\", \"resMemberStoreCorpNo\": \"\", \"commStartDate\": \"20190701\", \"commEndDate\": \"20190731\"}} \n",
      "\n",
      "DB:  {'organization': '0323', 'id': '로그인 아이디', 'password': 'RSA암호화된 비밀번호', 'startDate': '20190701', 'endDate': '20190731', 'memberStoreGroup': '(주)**', 'commMemberStoreGroup': '(주)**', 'resTransTypeNm': '승인', 'resUsedDate': '20190703', 'resUsedTime': '121444', 'resCardCompany': '**카드', 'resCardName': '', 'resCardNo': '************0000', 'resApprovalNo': '91048374', 'resUsedAmount': '396000', 'resInstallmentMonth': '00', 'resMemberStoreCorpNo': '', 'commStartDate': '20190701', 'commEndDate': '20190731'}\n"
     ]
    }
   ],
   "source": [
    "%run 07_product/07_CFA_approval.py -- _public_key "
   ]
  },
  {
   "cell_type": "code",
   "execution_count": null,
   "metadata": {},
   "outputs": [],
   "source": []
  },
  {
   "cell_type": "code",
   "execution_count": 6,
   "metadata": {},
   "outputs": [
    {
     "name": "stdout",
     "output_type": "stream",
     "text": [
      "(0, '0323', '로그인 아이디', 'RSA암호화된 비밀번호', '20190701', '20190731', '(주)**', '(주)**', '승인', '20190703', '121444', '**카드', '', '************0000', '91048374', '396000', '00', '', '20190701', '20190731')\n"
     ]
    }
   ],
   "source": [
    "##SQLITE QUERY\n",
    "c=conn.cursor()\n",
    "sql7=\"SELECT * FROM CFA_approval WHERE organization= :organization AND id= :id AND password=:password AND startDate=:startDate and endDate=:endDate AND memberStoreGroup=:memberStoreGroup\"\n",
    "c.execute(sql7, {'organization': '0323', 'id': '로그인 아이디', 'password': 'RSA암호화된 비밀번호', 'startDate': '20190701', 'endDate': '20190731', 'memberStoreGroup': '(주)**'}) #입력값\n",
    "\n",
    "for row in c.fetchall():\n",
    "    print(row)"
   ]
  },
  {
   "cell_type": "code",
   "execution_count": null,
   "metadata": {},
   "outputs": [],
   "source": []
  }
 ],
 "metadata": {
  "kernelspec": {
   "display_name": "Python 3",
   "language": "python",
   "name": "python3"
  },
  "language_info": {
   "codemirror_mode": {
    "name": "ipython",
    "version": 3
   },
   "file_extension": ".py",
   "mimetype": "text/x-python",
   "name": "python",
   "nbconvert_exporter": "python",
   "pygments_lexer": "ipython3",
   "version": "3.7.9"
  }
 },
 "nbformat": 4,
 "nbformat_minor": 4
}
